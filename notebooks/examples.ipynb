{
 "cells": [
  {
   "cell_type": "markdown",
   "metadata": {},
   "source": [
    "## Flattening a PySpark dataframe example"
   ]
  },
  {
   "cell_type": "code",
   "execution_count": null,
   "metadata": {},
   "outputs": [],
   "source": [
    "from dataframe_utils import walkthrough_schema\n",
    "\n",
    "df = spark.read.parquet(\"s3://path/to/dataframe\")\n",
    "\n",
    "flattened_field_names = walkthrough_schema(df.schema)\n",
    "\n",
    "\n",
    "#  You can simply pass the list of flattened names to the select command.\n",
    "#  NB: This will not preserve the parental paths and can lead to some\n",
    "#  ambiguity if nested children have the same name:\n",
    "#  (e.g payload.bundesland.id and payload.city.id will both end up as 'id')\n",
    "flattened_df = df.select(flattened_field_names)\n",
    "\n",
    "# To preserve unambiguous field names, you can create a new DF (or overwrite)\n",
    "# and pass the list of flattened names as the new columns\n",
    "flattened_df_renamed = flattened_df.toDF(*flattened_field_names)"
   ]
  }
 ],
 "metadata": {
  "kernelspec": {
   "display_name": "Python 3",
   "language": "python",
   "name": "python3"
  },
  "language_info": {
   "codemirror_mode": {
    "name": "ipython",
    "version": 3
   },
   "file_extension": ".py",
   "mimetype": "text/x-python",
   "name": "python",
   "nbconvert_exporter": "python",
   "pygments_lexer": "ipython3",
   "version": "3.6.5"
  }
 },
 "nbformat": 4,
 "nbformat_minor": 2
}
